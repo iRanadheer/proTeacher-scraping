{
 "cells": [
  {
   "cell_type": "code",
   "execution_count": null,
   "metadata": {},
   "outputs": [],
   "source": [
    "import pandas as pd"
   ]
  },
  {
   "cell_type": "markdown",
   "metadata": {},
   "source": [
    "con = sqlite3.connect('/home/ranu/data_to_go/proTeacher/data.sqlite')\n",
    "\n",
    "cursor = con.cursor()\n",
    "cursor.execute('CREATE TABLE IF NOT EXISTS forums (uid integer PRIMARY KEY, user_link text, username text, joined_date text, no_of_posts text, membership_type text, post_title text, posted_date text, post_text text, user_details text, post_url text);')\n"
   ]
  },
  {
   "cell_type": "code",
   "execution_count": null,
   "metadata": {},
   "outputs": [],
   "source": [
    "import sqlite3\n",
    "\n",
    "import warnings\n",
    "warnings.filterwarnings('ignore')\n",
    "\n",
    "con = sqlite3.connect('/home/ranu/data_to_go/proTeacher/data.sqlite')\n",
    "\n",
    "cursor = con.cursor()"
   ]
  },
  {
   "cell_type": "code",
   "execution_count": null,
   "metadata": {},
   "outputs": [],
   "source": [
    "pd.read_sql_query('select * from forums', con).shape"
   ]
  },
  {
   "cell_type": "code",
   "execution_count": null,
   "metadata": {},
   "outputs": [],
   "source": [
    "df = pd.read_sql_query('select * from forums', con)"
   ]
  },
  {
   "cell_type": "code",
   "execution_count": null,
   "metadata": {},
   "outputs": [],
   "source": [
    "df"
   ]
  },
  {
   "cell_type": "code",
   "execution_count": null,
   "metadata": {},
   "outputs": [],
   "source": [
    "import pandas as pd\n",
    "\n",
    "from bs4 import BeautifulSoup\n",
    "\n",
    "import requests\n",
    "\n",
    "import re\n",
    "\n",
    "def fetch_all_posts_in_a_pt_thread(post_url):\n",
    "    \n",
    "    res = requests.get(post_url)\n",
    "\n",
    "    soup = BeautifulSoup(res.content)\n",
    "\n",
    "    soup = soup.find('div',attrs={'id':'posts'})\n",
    "\n",
    "    all_posts = soup.find_all('table',attrs={'class':'tborder'})\n",
    "\n",
    "    post = all_posts[0]\n",
    "\n",
    "    all_dicts = []\n",
    "    for post in all_posts:\n",
    "        try:\n",
    "            tmp_dict = fetch_post(post)\n",
    "            all_dicts.append(tmp_dict)\n",
    "        except:\n",
    "            pass\n",
    "    dataframe = pd.DataFrame(all_dicts)\n",
    "    \n",
    "    dataframe['post_url'] = post_url\n",
    "    \n",
    "    return dataframe\n",
    "\n",
    "def fetch_post(post_tag):\n",
    "    \n",
    "    tmp_dict = {}\n",
    "    \n",
    "    user_link = 'http://www.proteacher.net/discussions/' + post_tag.find('a',attrs={'class':'bigusername'}).get('href')\n",
    "\n",
    "    username = post_tag.find('a',attrs={'class':'bigusername'}).text\n",
    "    \n",
    "    tmp_dict['user_link'] = user_link\n",
    "    \n",
    "    tmp_dict['username'] = username\n",
    "    \n",
    "    try:\n",
    "        user_details_string = post_tag.find('div',attrs={'class':'smallfont'}).text.strip()\n",
    "                \n",
    "        user_details = user_details_string.replace('\\n','').replace('\\t','').replace('                                        ','')\n",
    "        \n",
    "        user_details = user_details.split('\\r\\r')\n",
    "\n",
    "        joined_date = user_details[0]\n",
    "        \n",
    "        tmp_dict['joined_date'] = joined_date\n",
    "\n",
    "        no_of_posts = user_details[1]\n",
    "        \n",
    "        tmp_dict['no_of_posts'] = no_of_posts\n",
    "\n",
    "        membership_type = user_details[2]\n",
    "        \n",
    "        tmp_dict['membership_type'] = membership_type\n",
    "        \n",
    "    except:\n",
    "        user_details_string = post_tag.find('div',attrs={'class':'smallfont'}).text.strip()\n",
    "            \n",
    "    post_title = post_tag.find('strong').text\n",
    "    \n",
    "    tmp_dict['post_title'] = post_title\n",
    "    \n",
    "    posted_date = post_tag.find('td',attrs={'align':'left'}).text.split('\\t\\t\\t')[1]\n",
    "    \n",
    "    tmp_dict['posted_date'] = posted_date\n",
    "    \n",
    "    tmp_dict['post_text'] = post_tag.find('div',attrs={'id':re.compile('post_message_')}).text\n",
    "    \n",
    "    tmp_dict['user_details'] = user_details_string\n",
    "\n",
    "    return tmp_dict\n",
    "    \n",
    "\n",
    "fetch_all_posts_in_a_pt_thread('http://www.proteacher.net/discussions/showthread.php?t=656293')"
   ]
  },
  {
   "cell_type": "code",
   "execution_count": null,
   "metadata": {},
   "outputs": [],
   "source": []
  }
 ],
 "metadata": {
  "interpreter": {
   "hash": "6e4fdd52896e3faf9096b4783e1ba7b73fb15bb840ea69458de5946a2c14a488"
  },
  "kernelspec": {
   "display_name": "Python 3.6.9 ('venv': venv)",
   "language": "python",
   "name": "python3"
  },
  "language_info": {
   "codemirror_mode": {
    "name": "ipython",
    "version": 3
   },
   "file_extension": ".py",
   "mimetype": "text/x-python",
   "name": "python",
   "nbconvert_exporter": "python",
   "pygments_lexer": "ipython3",
   "version": "3.6.9"
  },
  "orig_nbformat": 4
 },
 "nbformat": 4,
 "nbformat_minor": 2
}
